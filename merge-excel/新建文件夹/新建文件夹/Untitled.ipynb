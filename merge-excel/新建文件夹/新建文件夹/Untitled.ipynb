{
 "cells": [
  {
   "cell_type": "code",
   "execution_count": 3,
   "metadata": {},
   "outputs": [],
   "source": [
    "import xlwt, xlrd\n",
    "\n",
    "path_origin_post = '原数据/posts.xlsx' # 我勒个操，用xls就报UnicodeError异常，改成xlsx就好了，我勒个操操操操\n",
    "path_origin_comment = '原数据/comments.xls'\n",
    "\n",
    "path_bad_post = '坏链接/posts_bad.xls'\n",
    "path_bad_comment = '坏链接/comments_bad.xls'\n",
    "\n",
    "path_rest_post = '缺链接/posts_rest.xls'\n",
    "path_rest_comment = '缺链接/comments_rest.xls'\n",
    "\n",
    "workbook_origin_comment = xlrd.open_workbook(path_origin_comment, encoding_override=\"gbk\")\n",
    "sheet_origin_comment = workbook_origin_comment.sheet_by_index(0)\n",
    "origin_comments = [[] for i in range(sheet_origin_comment.nrows)]\n",
    "for i in range(sheet_origin_comment.nrows):\n",
    "#     print(sheet_origin_comment.row_values(i))\n",
    "    idx, cnt, text = sheet_origin_comment.row_values(i)\n",
    "    origin_comments[int(idx)-1].append((int(cnt), text))\n",
    "\n",
    "origin_post_useful = []\n",
    "origin_comment_useful = []\n",
    "workbook_origin_post = xlrd.open_workbook(path_origin_post, encoding_override=\"gbk\")\n",
    "sheet_origin_post = workbook_origin_post.sheet_by_index(0)\n",
    "for i in range(sheet_origin_post.nrows):\n",
    "    if sheet_origin_post.row_values(i)[1] != '':\n",
    "        origin_post_useful.append(sheet_origin_post.row_values(i)[1])\n",
    "        origin_comment_useful.append(origin_comments[i])\n",
    "\n",
    "workbook_bad_comment = xlrd.open_workbook(path_bad_comment, encoding_override=\"gbk\")\n",
    "sheet_bad_comment = workbook_bad_comment.sheet_by_index(0)\n",
    "bad_comment = [[] for i in range(sheet_bad_comment.nrows)]\n",
    "for i in range(sheet_bad_comment.nrows):\n",
    "#     print(sheet_origin_comment.row_values(i))\n",
    "    idx, cnt, text = sheet_bad_comment.row_values(i)\n",
    "    bad_comment[int(idx)-1].append((int(cnt), text))    \n",
    "        \n",
    "workbook_bad_post = xlrd.open_workbook(path_bad_post, encoding_override=\"gbk\")\n",
    "sheet_bad_post = workbook_bad_post.sheet_by_index(0)\n",
    "bad_post = []\n",
    "for i in range(sheet_bad_post.nrows):\n",
    "    idx, date, text, link = sheet_bad_post.row_values(i)\n",
    "    bad_post.append(text)\n",
    "\n",
    "workbook_rest_comment = xlrd.open_workbook(path_rest_comment, encoding_override=\"gbk\")\n",
    "sheet_rest_comment = workbook_rest_comment.sheet_by_index(0)\n",
    "rest_comment = [[] for i in range(sheet_rest_comment.nrows)]\n",
    "for i in range(sheet_rest_comment.nrows):\n",
    "#     print(sheet_origin_comment.row_values(i))\n",
    "    idx, cnt, text = sheet_rest_comment.row_values(i)\n",
    "    rest_comment[int(idx)-1].append((int(cnt), text))    \n",
    "        \n",
    "workbook_rest_post = xlrd.open_workbook(path_rest_post, encoding_override=\"gbk\")\n",
    "sheet_rest_post = workbook_rest_post.sheet_by_index(0)\n",
    "rest_post = []\n",
    "for i in range(sheet_rest_post.nrows):\n",
    "    idx, date, text, link = sheet_rest_post.row_values(i)\n",
    "    rest_post.append(text)"
   ]
  },
  {
   "cell_type": "code",
   "execution_count": 4,
   "metadata": {},
   "outputs": [
    {
     "name": "stdout",
     "output_type": "stream",
     "text": [
      "323 11882\n"
     ]
    }
   ],
   "source": [
    "all_post = []\n",
    "all_comment = []\n",
    "\n",
    "num  = 0\n",
    "for idx, value in enumerate(origin_post_useful):\n",
    "    num += 1\n",
    "    all_post.append((num, value))\n",
    "    for value in origin_comment_useful[idx]:\n",
    "        all_comment.append((num, ) + value)\n",
    "\n",
    "for idx, value in enumerate(bad_post):\n",
    "    num += 1\n",
    "    all_post.append((num, value))\n",
    "    for value in bad_comment[idx]:\n",
    "        all_comment.append((num, ) + value)\n",
    "\n",
    "for idx, value in enumerate(rest_post):\n",
    "    num += 1\n",
    "    all_post.append((num, value))\n",
    "    for value in rest_comment[idx]:\n",
    "        all_comment.append((num, ) + value)\n",
    "\n",
    "print(len(all_post), len(all_comment), sep=' ')"
   ]
  },
  {
   "cell_type": "code",
   "execution_count": 56,
   "metadata": {},
   "outputs": [
    {
     "name": "stdout",
     "output_type": "stream",
     "text": [
      "323 11882\n"
     ]
    }
   ],
   "source": [
    "# 整理写入的是不加reaction，comment, share 的信息\n",
    "w = xlwt.Workbook()\n",
    "sheet = w.add_sheet('post')\n",
    "for idx, value in enumerate(all_post):\n",
    "    sheet.write(idx, 0, value[0])\n",
    "    sheet.write(idx, 1, value[1])\n",
    "w.save('post.xls')\n",
    "\n",
    "w = xlwt.Workbook()\n",
    "sheet = w.add_sheet('comment')\n",
    "for idx, value in enumerate(all_comment):\n",
    "    sheet.write(idx, 0, value[0])\n",
    "    sheet.write(idx, 1, value[1])\n",
    "    sheet.write(idx, 2, value[2])\n",
    "w.save('comment.xls')\n"
   ]
  },
  {
   "cell_type": "code",
   "execution_count": 2,
   "metadata": {},
   "outputs": [],
   "source": [
    "from bs4 import BeautifulSoup\n",
    "import re\n",
    "\n",
    "re_commentlink      = '<a(?:.[^>]*?)href=\"(.[^\"]*?)\"(?:[^>]*?)>(?:[0-9]* Comments|1 Comment|Comment)</a>'\n",
    "pattern_commentlink = re.compile(re_commentlink)\n",
    "\n",
    "with open('posts.html', 'rb') as f:\n",
    "    a = f.read()\n",
    "soup = BeautifulSoup(a.decode('utf-8'), 'lxml')"
   ]
  },
  {
   "cell_type": "code",
   "execution_count": null,
   "metadata": {},
   "outputs": [],
   "source": [
    "divs = soup.find_all('div', attrs={'data-sigil': \"reactions-bling-bar\"})\n",
    "articles = soup.find_all('article')\n",
    "for idx, item in enumerate(articles):\n",
    "    footer = item.find('footer')\n",
    "    if footer:\n",
    "        cnt_link = str(pattern_commentlink.findall(str(item))[0])\n",
    "        content = footer.find('div', attrs={'data-sigil':\"reactions-bling-bar\"})\n",
    "        print(\"-\"*30)\n",
    "        print(cnt_link)\n",
    "        num_reaction = num_share = num_comment = 0\n",
    "        if content:\n",
    "            reaction = content.find('div', attrs={\"data-sigil\":\"reactions-sentence-container\"})\n",
    "            if reaction:\n",
    "                num_reaction = str(reaction.text)\n",
    "                num_reaction = re.sub('\\s+', ' ', num_reaction)\n",
    "            comment = re.findall(r'([0-9]+)\\s[Comment|Comments]', str(content))\n",
    "            if comment:\n",
    "                num_comment = comment[0]\n",
    "            share = re.findall(r'([0-9]+)\\s[Share|Shares]', str(content))\n",
    "            if share:\n",
    "                num_share = share[0]\n",
    "        link = 'https://m.facebook.com' + cnt_link[:cnt_link.find('?')+1]\n",
    "        for all_post"
   ]
  }
 ],
 "metadata": {
  "kernelspec": {
   "display_name": "Python 3",
   "language": "python",
   "name": "python3"
  },
  "language_info": {
   "codemirror_mode": {
    "name": "ipython",
    "version": 3
   },
   "file_extension": ".py",
   "mimetype": "text/x-python",
   "name": "python",
   "nbconvert_exporter": "python",
   "pygments_lexer": "ipython3",
   "version": "3.7.3"
  }
 },
 "nbformat": 4,
 "nbformat_minor": 2
}
